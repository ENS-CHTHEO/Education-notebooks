{
 "cells": [
  {
   "cell_type": "markdown",
   "metadata": {},
   "source": [
    "# Notebooks pour le cours MU4Ci201 \"Du microscopique au macroscopique\" de Sorbonne-Université\n",
    "\n",
    "Ceci est une collection de notebooks IPython pour illustrer le cours \"Du microscopique au macroscopique\". La liste des notebooks disponibles est:\n",
    "\n",
    "* [Répartition de particules entre deux compartiments](notebooks/GaucheDroite.ipynb)"
   ]
  },
  {
   "cell_type": "code",
   "execution_count": null,
   "metadata": {},
   "outputs": [],
   "source": []
  }
 ],
 "metadata": {
  "kernelspec": {
   "display_name": "Python 3",
   "language": "python",
   "name": "python3"
  },
  "language_info": {
   "codemirror_mode": {
    "name": "ipython",
    "version": 3
   },
   "file_extension": ".py",
   "mimetype": "text/x-python",
   "name": "python",
   "nbconvert_exporter": "python",
   "pygments_lexer": "ipython3",
   "version": "3.8.1"
  }
 },
 "nbformat": 4,
 "nbformat_minor": 4
}
