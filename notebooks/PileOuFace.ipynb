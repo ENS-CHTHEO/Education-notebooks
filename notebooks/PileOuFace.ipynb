{
 "cells": [
  {
   "cell_type": "markdown",
   "metadata": {},
   "source": [
    "# Pile ou Face: introduction aux probabilités\n",
    "\n",
    "Nous allons effectuer une série de tirages aléatoires de \"Pile\" ou \"Face\" avec chacun une probabilité $P_\\mathrm{Pile}=\\frac{1}{2}$ et $P_\\mathrm{Face}=\\frac{1}{2}$.\n",
    "\n",
    "Ensuite, nous retrouverons que cette probabilité correspond à la proportion de tirages donnant \"Pile\" ou \"Face\" respectivement, si on effectue un grand nombre de tirages. \n",
    "\n",
    "\"Pile\" et \"Face\" sont les deux \"états\" possibles du système. En attribuant une valeur, 1 et 0 respectivement, à ces \"états\" possibles, \"Pile\" ou \"Face\" nous calculerons de deux façons la moyenne de cette valeur."
   ]
  },
  {
   "cell_type": "markdown",
   "metadata": {},
   "source": [
    "## Modules nécessaires"
   ]
  },
  {
   "cell_type": "code",
   "execution_count": 165,
   "metadata": {},
   "outputs": [],
   "source": [
    "import numpy as np\n",
    "import matplotlib.pyplot as plt"
   ]
  },
  {
   "cell_type": "code",
   "execution_count": 166,
   "metadata": {},
   "outputs": [],
   "source": [
    "import tools.pileface as pf"
   ]
  },
  {
   "cell_type": "markdown",
   "metadata": {},
   "source": [
    "## Prise en main\n",
    "\n",
    "La fonction\n",
    "\n",
    "    pf.pileface()\n",
    "    \n",
    "renvoie aléatoirement l'état \"Pile\" ou \"Face\" avec chacun une probabilité $P_\\mathrm{Pile}=\\frac{1}{2}$ et $P_\\mathrm{Face}=\\frac{1}{2}$."
   ]
  },
  {
   "cell_type": "code",
   "execution_count": 167,
   "metadata": {},
   "outputs": [
    {
     "data": {
      "text/plain": [
       "'Face'"
      ]
     },
     "execution_count": 167,
     "metadata": {},
     "output_type": "execute_result"
    }
   ],
   "source": [
    "pf.pileface()"
   ]
  },
  {
   "cell_type": "markdown",
   "metadata": {},
   "source": [
    "### A faire\n",
    "\n",
    "Faites 10 tirages (shift + entrée sur la cellule précédente) \n",
    "et représenter un histogramme du nombre de fois où vous avez obtenu \"Pile\" \n",
    "et du nombre de fois ou vous aves obtenu \"Face\"."
   ]
  },
  {
   "cell_type": "markdown",
   "metadata": {},
   "source": [
    "## Grand nombre de tirages: estimation de la probabilité de chaque état"
   ]
  },
  {
   "cell_type": "markdown",
   "metadata": {},
   "source": [
    "Dans la cellule ci-dessous, la ligne\n",
    "\n",
    "    Ntirages=10000\n",
    "   \n",
    "permet de définir un nombre, $N_\\mathrm{tirages}$, de tirages. On effectue ensuite ces $N_\\mathrm{tirages}$ (ici 10000) et garde le résultat de chaque tirage dans une liste. Le résultat des 10 premiers tirages est affiché pour illustration. \n",
    "\n",
    "On compte ensuite le nombre de tirages où on a obtenu \"Pile\" et \"Face\" respectivement. Ce décompte est représenté par un histogramme.\n",
    "\n",
    "Il sera demandé de changer ici le nombre de tirages en modifiant simplement la ligne\n",
    "\n",
    "    Ntirages=10000\n"
   ]
  },
  {
   "cell_type": "code",
   "execution_count": 175,
   "metadata": {},
   "outputs": [
    {
     "data": {
      "text/plain": [
       "['Pile',\n",
       " 'Face',\n",
       " 'Pile',\n",
       " 'Face',\n",
       " 'Face',\n",
       " 'Pile',\n",
       " 'Face',\n",
       " 'Face',\n",
       " 'Pile',\n",
       " 'Face']"
      ]
     },
     "execution_count": 175,
     "metadata": {},
     "output_type": "execute_result"
    }
   ],
   "source": [
    "# tirages\n",
    "\n",
    "Ntirages=100000\n",
    "\n",
    "tirages=[]\n",
    "for i in range(Ntirages):\n",
    "    tirages.append(pf.pileface())\n",
    "\n",
    "tirages[:10]"
   ]
  },
  {
   "cell_type": "code",
   "execution_count": 176,
   "metadata": {},
   "outputs": [
    {
     "name": "stdout",
     "output_type": "stream",
     "text": [
      "Le nombre de tirages où on a obtenu chaque état est {'Face': 49965, 'Pile': 50035}.\n"
     ]
    },
    {
     "data": {
      "image/png": "[encoded data removed]",
      "text/plain": [
       "<Figure size 432x288 with 1 Axes>"
      ]
     },
     "metadata": {
      "needs_background": "light"
     },
     "output_type": "display_data"
    }
   ],
   "source": [
    "# décompte du nombre de tirages où on a obtenu \"Pile\" et \"Face\" respectivement\n",
    "\n",
    "Nface=tirages.count('Face')\n",
    "Npile=tirages.count('Pile')\n",
    "Counts={'Face':Nface, 'Pile':Npile}\n",
    "\n",
    "print(\"Le nombre de tirages où on a obtenu chaque état est {}.\".format(Counts))\n",
    "\n",
    "plt.bar(Counts.keys(),Counts.values())\n",
    "plt.show()"
   ]
  },
  {
   "cell_type": "markdown",
   "metadata": {},
   "source": [
    "En divisant ce nombre de tirages pour chaque état par le nombre total de tirages on obtient une estimation de la \n",
    "probabilité de chaque état:\n",
    "\n",
    "\\begin{equation*}\n",
    "    P_\\mathrm{état}=\\frac{N_\\mathrm{état}}{N_\\mathrm{tirages}}.\n",
    "\\end{equation*}\n",
    "\n",
    "Vis et versa, étant donnée la probabilité $P_\\mathrm{état}$ de chaque état (ici $P_\\mathrm{état}=\\frac{1}{2}$, on s'attend à trouver cet état un nombre de fois égal à \n",
    "\n",
    "\\begin{equation*}\n",
    "    N_\\mathrm{état}=P_\\mathrm{état}\\times N_\\mathrm{tirages},\n",
    "\\end{equation*}\n",
    "\n",
    "sur $N_\\mathrm{tirages}$ tirages.\n"
   ]
  },
  {
   "cell_type": "code",
   "execution_count": 177,
   "metadata": {},
   "outputs": [
    {
     "name": "stdout",
     "output_type": "stream",
     "text": [
      "La probabilité estimée pour chaque état est {'Face': 0.49965, 'Pile': 0.50035}.\n"
     ]
    },
    {
     "data": {
      "image/png": "[encoded data removed]",
      "text/plain": [
       "<Figure size 432x288 with 1 Axes>"
      ]
     },
     "metadata": {
      "needs_background": "light"
     },
     "output_type": "display_data"
    }
   ],
   "source": [
    "# estimation des probabilités de tirer \"Pile\" ou de tirer \"Face\" \n",
    "\n",
    "Pface=Nface/Ntirages\n",
    "Ppile=Npile/Ntirages\n",
    "Probabilite={\"Face\":Pface,\"Pile\":Ppile}\n",
    "\n",
    "print(\"La probabilité estimée pour chaque état est {}.\".format(Probabilite))\n",
    "\n",
    "plt.bar(Probabilite.keys(),Probabilite.values())\n",
    "plt.show()"
   ]
  },
  {
   "cell_type": "markdown",
   "metadata": {},
   "source": [
    "### A faire\n",
    "\n",
    "Faites plusieurs séries de tirages et observer les décomptes et probabilités obtenues. \n",
    "Faites ensuite varier le nombre de tirages de 10 à 10000."
   ]
  },
  {
   "cell_type": "markdown",
   "metadata": {},
   "source": [
    "## Moyenne d'une valeur"
   ]
  },
  {
   "cell_type": "markdown",
   "metadata": {},
   "source": [
    "Nous commençons par attribuer une valeur $X$ (une quantité mesurable) à chaque état, ici 0 pour l'état \"Face\" et 1 pour l'état \"Pile\"."
   ]
  },
  {
   "cell_type": "code",
   "execution_count": 178,
   "metadata": {},
   "outputs": [],
   "source": [
    "X={\"Face\":0, \"Pile\":1}"
   ]
  },
  {
   "cell_type": "markdown",
   "metadata": {},
   "source": [
    "La moyenne de cette quantité sur l'ensemble des tirages peut être calculée simplement comme la somme des valeurs \n",
    "de chaque tirage divisée par le nombre de tirages, comme une moyenne de notes dans un bulletin:\n",
    "\n",
    "\\begin{equation*}\n",
    "\\langle X \\rangle = \\frac{\\sum_{i=1}^{N_\\mathrm{tirages}} X_i}{N_\\mathrm{tirages}}.\n",
    "\\end{equation*}\n",
    "\n",
    "Mais on peut de manière équivalente l'obtenir en comptant le nombre de tirage où $X$ prend une valeur \n",
    "donnée, 0 ou 1 ici. En effet, on a\n",
    "\n",
    "\\begin{equation*}\n",
    "\\sum_{i=1}^{N_\\mathrm{tirages}} X_i = N_\\mathrm{Face}\\times X(Face) + N_\\mathrm{Pile}\\times X(Pile)\n",
    "\\end{equation*}\n",
    "\n",
    "d'où\n",
    "\n",
    "\\begin{equation*}\n",
    "\\langle X \\rangle = \\frac{N_\\mathrm{Face}\\times X(\\mathrm{Face}) + N_\\mathrm{Pile}\\times X(\\mathrm{Pile})}{N_\\mathrm{tirages}} \n",
    "\\end{equation*}\n",
    "\n",
    "de sorte que l'on trouve\n",
    "\n",
    "\\begin{equation*}\n",
    "\\langle X \\rangle  =\n",
    "P_\\mathrm{Face}\\times X(\\mathrm{Face}) + P_\\mathrm{Pile}\\times X(\\mathrm{Pile}).\n",
    "\\end{equation*}\n",
    "\n",
    "Ces probabilités estimées tendent pour un grand nombre de tirages vers la probabilité $\\frac{1}{2}$ de la fonction générant aléatoirement l'état du système.\n",
    "Alors, lorsque le nombre de tirages est suffisamment grand, cette valeur moyenne estyimée tend vers la valeur moyenne attendue (expectation) donnée par les probabilités de générer \"Pile\" ou \"Face\", soit $\\frac{1}{2}$ ici On a  dans ce cas\n",
    "\n",
    "\\begin{equation*}\n",
    "\\langle X \\rangle  = \\frac{1}{2}\\times 0 + \\frac{1}{2}\\times 1 = \\frac{1}{2}.\n",
    "\\end{equation*}\n"
   ]
  },
  {
   "cell_type": "code",
   "execution_count": 179,
   "metadata": {},
   "outputs": [
    {
     "name": "stdout",
     "output_type": "stream",
     "text": [
      "La valeur moyenne calculée avec la somme sur tous les tirages est Moyenne1 = 0.50035\n"
     ]
    }
   ],
   "source": [
    "# Première façon\n",
    "\n",
    "Somme=0\n",
    "for i in range(Ntirages):\n",
    "    Somme=Somme+X[tirages[i]]\n",
    "    \n",
    "Moyenne1=Somme/Ntirages\n",
    "\n",
    "print(\"La valeur moyenne calculée avec la somme sur tous les tirages est Moyenne1 = {}\".format(Moyenne1))"
   ]
  },
  {
   "cell_type": "code",
   "execution_count": 180,
   "metadata": {},
   "outputs": [
    {
     "name": "stdout",
     "output_type": "stream",
     "text": [
      "La valeur moyenne calculée à partir des probabilités estimées est Moyenne2 = 0.50035\n"
     ]
    }
   ],
   "source": [
    "# Deuxième façon\n",
    "\n",
    "Moyenne2=Probabilite[\"Face\"]*X[\"Face\"]+Probabilite[\"Pile\"]*X[\"Pile\"]\n",
    "\n",
    "print(\"La valeur moyenne calculée à partir des probabilités estimées est Moyenne2 = {}\".format(Moyenne2))"
   ]
  },
  {
   "cell_type": "markdown",
   "metadata": {},
   "source": [
    "### A faire\n",
    "\n",
    "Commenter le résultat obtenu. Comme précédemment, faites varier $N_\\mathrm{tirages}$ entre 10 et 10000."
   ]
  },
  {
   "cell_type": "code",
   "execution_count": null,
   "metadata": {},
   "outputs": [],
   "source": []
  }
 ],
 "metadata": {
  "kernelspec": {
   "display_name": "Python 3",
   "language": "python",
   "name": "python3"
  },
  "language_info": {
   "codemirror_mode": {
    "name": "ipython",
    "version": 3
   },
   "file_extension": ".py",
   "mimetype": "text/x-python",
   "name": "python",
   "nbconvert_exporter": "python",
   "pygments_lexer": "ipython3",
   "version": "3.8.1"
  }
 },
 "nbformat": 4,
 "nbformat_minor": 4
}
