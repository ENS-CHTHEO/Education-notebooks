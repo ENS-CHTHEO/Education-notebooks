{
 "cells": [
  {
   "cell_type": "markdown",
   "metadata": {},
   "source": [
    "# Jeu de dés\n",
    "\n",
    "Dans ce notebook, nous reprenons l'exemple vu en cours d'un jeu de $ndes$ dés dont on contraint la somme totale sur les faces. En cours nous avions pris 3 dés et contraint la somme à être égale à 8 ce qui amenait à 21 cas possibles, parmi lesquels 6 ont la face \"1\" pour le dé 1, 5 ont la face \"2\" pour le dé 1 etc. On aboutit alors à une probabilité de trouver la face $i$ pour le dé 1 qui décroit en fonction de $i$. Cette décroissance est linéaire dans ce cas. Le but de ce notebook est de montrer que si on augmente le nombre de dés, on aboutit à une décroissance exponentielle, comme pour la loi de Boltzmann. Les dés qui ne sont pas le dé observé jouent le rôle de thermostat. La loi exponentielle est obtenu pour un thermostat grand devant le système observé. C'est ce que nous allons retrouver. Si le thermostat ne contient que 2 dés, la loi obtenue est différente."
   ]
  },
  {
   "cell_type": "code",
   "execution_count": 28,
   "metadata": {},
   "outputs": [],
   "source": [
    "import numpy as np\n",
    "import matplotlib.pyplot as plt"
   ]
  },
  {
   "cell_type": "code",
   "execution_count": 29,
   "metadata": {},
   "outputs": [],
   "source": [
    "import tools.des as ds"
   ]
  },
  {
   "cell_type": "markdown",
   "metadata": {},
   "source": [
    "## Tirages d'un jeu aléatoire de configurations des dés avec somme fixe"
   ]
  },
  {
   "cell_type": "markdown",
   "metadata": {},
   "source": [
    "Ici, on fixe le nombre de dés, $ndes$, la contrainte sur la somme, $somme$ et le nombre de tirages, $ntirages$. \n",
    "\n",
    "Il est aussi possible de choisir des dés autres qu'à six faces en donnant le nombre de faces de chaque dé, $nfaces$."
   ]
  },
  {
   "cell_type": "code",
   "execution_count": 30,
   "metadata": {},
   "outputs": [],
   "source": [
    "ndes=3\n",
    "somme=8\n",
    "nfaces=6\n",
    "ntirages=10000"
   ]
  },
  {
   "cell_type": "markdown",
   "metadata": {},
   "source": [
    "La fonction $ds.TiragesDes$ génère alors $ntirages$ configurations des dés avec la contrainte sur la somme des faces et avec une distribution équiprobable sur toutes les configurations compatibles avec cette contrainte.\n",
    "\n",
    "$somme$ doit vérifier $ndes \\le somme \\le nfaces\\times ndes$, sinon $ds.TiragesDes$ renvoie un message d'erreur.\n",
    "\n",
    "Le paramètre $npas$ sert à la génération des tirages, la fonction génère en réalité $npas \\times ntirages$ configurations à la suite et en extrait une configuration tous les $npas$. Ceci sert à avoir des configurations avec plus de différences entre elles."
   ]
  },
  {
   "cell_type": "code",
   "execution_count": 31,
   "metadata": {},
   "outputs": [],
   "source": [
    "tirages=ds.TiragesDes(ndes=ndes,somme=somme,nfaces=nfaces,ntirages=ntirages,npas=100)"
   ]
  },
  {
   "cell_type": "markdown",
   "metadata": {},
   "source": [
    "On peut faire un histogramme des configurations générées. Chaque barre est indéxée par \"i-j-k\" où $i$, $j$ et $k$ sont les faces des dés 1, 2 et 3 respectivement. \n",
    "\n",
    "On peut tracer cette histogramme avec 4, voire 5 dés. Cependant, si le nombre de configurations possibles est plus grand que 50, alors un message d'erreur est affiché.\n",
    "\n",
    "Vous pouvez observer que chacune des configurations, états microscopiques, du système total, qui est un système isolé, sont équiprobables (aux erreurs statistiques près qui disparaissent pour un grand nombre de tirages)."
   ]
  },
  {
   "cell_type": "code",
   "execution_count": 32,
   "metadata": {},
   "outputs": [
    {
     "data": {
      "image/png": "[encoded data removed]",
      "text/plain": [
       "<Figure size 432x288 with 1 Axes>"
      ]
     },
     "metadata": {
      "needs_background": "light"
     },
     "output_type": "display_data"
    }
   ],
   "source": [
    "hist=ds.HistogrammeDes(tirages)\n",
    "\n",
    "if (len(hist) < 50):\n",
    "    plt.bar(hist.keys(),hist.values())\n",
    "    plt.xticks(rotation='vertical')\n",
    "    plt.show()\n",
    "else:\n",
    "    print(\"Trop de valeurs pour tracer l'histogramme\")"
   ]
  },
  {
   "cell_type": "markdown",
   "metadata": {},
   "source": [
    "## Calcul des probabilités de chaque face pour un dé donné"
   ]
  },
  {
   "cell_type": "markdown",
   "metadata": {},
   "source": [
    "Nous allons maintnant nous intéresser à un seul dé parmi les $ndes$ dés. La fonction $Proba(tirages,ides,nfaces)$ extrait des tirages précédents les probabilités que le dé $ides$ expose chacune des faces parmi les $nfaces$.\n",
    "\n",
    "Avec 3 dés, on retrouve l'exemple du cours avec une probabilité qui décroit linéairement. Avec un plus grand nombre de dés, on obtient une décroissance plus rapide."
   ]
  },
  {
   "cell_type": "code",
   "execution_count": 33,
   "metadata": {},
   "outputs": [
    {
     "data": {
      "text/plain": [
       "array([0.2882, 0.2365, 0.1906, 0.1426, 0.1001, 0.042 ])"
      ]
     },
     "execution_count": 33,
     "metadata": {},
     "output_type": "execute_result"
    }
   ],
   "source": [
    "ds.Proba(tirages,ides=1,nfaces=nfaces)"
   ]
  },
  {
   "cell_type": "markdown",
   "metadata": {},
   "source": [
    "La cellule ci-dessus trace cette probabilité pour chaque dé, jusqu'à dix dés. En plus de pouvoir discuter la décroissance de cette probabilité, on peut se rendre compte que chaque dé est équivalent, comme on peut s'y attendre."
   ]
  },
  {
   "cell_type": "code",
   "execution_count": 34,
   "metadata": {},
   "outputs": [
    {
     "data": {
      "image/png": "[encoded data removed]",
      "text/plain": [
       "<Figure size 432x288 with 1 Axes>"
      ]
     },
     "metadata": {
      "needs_background": "light"
     },
     "output_type": "display_data"
    }
   ],
   "source": [
    "x=np.arange(nfaces)+1\n",
    "\n",
    "for ides in range(min(10,ndes)):\n",
    "    plt.plot(x,ds.Proba(tirages,ides,nfaces=nfaces))\n",
    "\n",
    "plt.show()"
   ]
  },
  {
   "cell_type": "markdown",
   "metadata": {},
   "source": [
    "Nous allons maintenant comparer la loi de probabilité de chaque face observée avec la loi de Bolzmann.\n",
    "\n",
    "La loi de Bolzmann dans le cas présent s'écrit\n",
    "\n",
    "$$ P(x)=\\frac{\\exp \\left(-\\frac{x}{n_0}\\right)}{q},$$\n",
    "\n",
    "où $n_0$ est un paramètre jouant le rôle de la température, $k_BT$. $q$ est la fonction de partition.\n",
    "\n",
    "Ici, nous ne fixons pas la température du thermostat, mais \"l'énergie totale\", c'est à dire le paramètre $somme$. Comme chaque dé est équivalent, voir ci-dessus, \"l'énergie interne\" de chaque dé, la valeur moyenne de la face, st égale à $somme/ndes$. $n_0$ est alors obtenu par la fonction $BoltzmannParam$ de façon à ce que la loi de Boltzmann ait la même valeur moyenne.\n",
    "\n",
    "La fonction de partition est alors obtenu grâce à la formule qui la définit:\n",
    "$$q=\\sum_{x=1}^{n_{\\mathrm{faces}}} \\exp \\left(-\\frac{x}{n_0}\\right)$$."
   ]
  },
  {
   "cell_type": "code",
   "execution_count": 35,
   "metadata": {},
   "outputs": [
    {
     "data": {
      "image/png": "[encoded data removed]",
      "text/plain": [
       "<Figure size 432x288 with 1 Axes>"
      ]
     },
     "metadata": {
      "needs_background": "light"
     },
     "output_type": "display_data"
    }
   ],
   "source": [
    "n0,q=ds.BoltzmannParam(somme/ndes,nfaces=nfaces)\n",
    "\n",
    "ProbaBoltzmann=1/q*np.exp(-x/n0)\n",
    "\n",
    "plt.plot(x,ProbaBoltzmann,'o')\n",
    "plt.show()"
   ]
  },
  {
   "cell_type": "markdown",
   "metadata": {},
   "source": [
    "Nous pouvons maintenant comparer la loi observée et la loi de Boltzmann."
   ]
  },
  {
   "cell_type": "code",
   "execution_count": 36,
   "metadata": {},
   "outputs": [
    {
     "data": {
      "image/png": "[encoded data removed]",
      "text/plain": [
       "<Figure size 432x288 with 1 Axes>"
      ]
     },
     "metadata": {
      "needs_background": "light"
     },
     "output_type": "display_data"
    }
   ],
   "source": [
    "x=np.arange(nfaces)+1\n",
    "\n",
    "for ides in range(min(10,ndes)):\n",
    "    plt.plot(x,ds.Proba(tirages,ides,nfaces=nfaces))\n",
    "\n",
    "n0,q=ds.BoltzmannParam(somme/ndes,nfaces=nfaces)\n",
    "\n",
    "ProbaBoltzmann=1/q*np.exp(-x/n0)\n",
    "\n",
    "plt.plot(x,ProbaBoltzmann,'o')\n",
    "\n",
    "plt.show()"
   ]
  },
  {
   "cell_type": "markdown",
   "metadata": {},
   "source": [
    "### A faire\n",
    "\n",
    "Commencez avec $ndes=3$ et $somme=8$ comme en cours. Puis augmenter $ndes$ progressivement. Augmentez simultanément $somme$, qui est une grandeur extensive. Pour $ndes$ entre 10 et 100, prenez $somme$ entre 2 et 3 fois $ndes$.\n",
    "\n",
    "Vous pouvez aussi jouer avec le paramêtre $nfaces$."
   ]
  },
  {
   "cell_type": "code",
   "execution_count": null,
   "metadata": {},
   "outputs": [],
   "source": []
  }
 ],
 "metadata": {
  "kernelspec": {
   "display_name": "Python 3",
   "language": "python",
   "name": "python3"
  },
  "language_info": {
   "codemirror_mode": {
    "name": "ipython",
    "version": 3
   },
   "file_extension": ".py",
   "mimetype": "text/x-python",
   "name": "python",
   "nbconvert_exporter": "python",
   "pygments_lexer": "ipython3",
   "version": "3.8.10"
  }
 },
 "nbformat": 4,
 "nbformat_minor": 4
}
