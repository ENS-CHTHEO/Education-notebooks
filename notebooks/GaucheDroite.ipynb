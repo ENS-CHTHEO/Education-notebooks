{
 "cells": [
  {
   "cell_type": "markdown",
   "metadata": {},
   "source": [
    "# Répartition de particules entre deux compartiments\n",
    "\n",
    "Comme vu en cours et en travaux dirigés, nous considérons ici un nombre $N_\\mathrm{particules}$ de particules réparties entre deux compartiments identiques, dénomés \"Gauche\" et \"Droite\".\n",
    "\n",
    "Nous allons alors nous intéresser à la probabilité $p(n)=P(N_\\mathrm{gauche}=n)$ de trouver $n$ particules dans le compartiment de gauche."
   ]
  },
  {
   "cell_type": "markdown",
   "metadata": {},
   "source": [
    "## Modules nécessaires"
   ]
  },
  {
   "cell_type": "code",
   "execution_count": 1,
   "metadata": {},
   "outputs": [],
   "source": [
    "import numpy as np\n",
    "import matplotlib.pyplot as plt\n",
    "import scipy.special as sp"
   ]
  },
  {
   "cell_type": "code",
   "execution_count": 2,
   "metadata": {},
   "outputs": [],
   "source": [
    "import tools.gauchedroite as gd"
   ]
  },
  {
   "cell_type": "markdown",
   "metadata": {},
   "source": [
    "## Prise en main\n",
    "\n",
    "Nous avons créé une fonction \n",
    "\n",
    "    $ nouveautirage(Nparticules=10,Verbose=False)\n",
    "    \n",
    "qui effectue une répartion aléatoire de Nparticules entre les deux compartiments. La valeur de Nparticules par défaut est 10.\n",
    "\n",
    "Si Verbose == False, alors la sortie de nouveautirage est un [dictionnaire python](https://courspython.com/dictionnaire.html) donnant le nombre de particules dans chaque compartiment. Par exemple:\n",
    "    \n",
    "    {'Gauche': 5, 'Droite': 5})\n",
    " \n",
    "Si Verbose == True et si Nparticules <= 100 , la sortie est un tuple comprenant une liste indiquant pour chaque particule le compartiment dans laquelle elle se trouve et le dictionnaire ci-dessous. Par exemple:\n",
    "\n",
    "    $ nouveautirage(10,True)\n",
    "    (['Gauche',\n",
    "      'Droite',\n",
    "      'Gauche',\n",
    "      'Gauche',\n",
    "      'Droite',\n",
    "      'Droite',\n",
    "      'Droite',\n",
    "      'Gauche',\n",
    "      'Gauche',\n",
    "      'Droite'],\n",
    "     {'Gauche': 5, 'Droite': 5})\n",
    "    \n",
    "Le résultat de nouveautirage peut facilement être représenté sous forme d'histogramme grâce à la fonction [pyplot.bar](https://matplotlib.org/api/_as_gen/matplotlib.pyplot.bar.html) de [matplotlib](https://matplotlib.org/)."
   ]
  },
  {
   "cell_type": "code",
   "execution_count": 3,
   "metadata": {},
   "outputs": [
    {
     "data": {
      "text/plain": [
       "(['Gauche',\n",
       "  'Gauche',\n",
       "  'Gauche',\n",
       "  'Droite',\n",
       "  'Gauche',\n",
       "  'Gauche',\n",
       "  'Droite',\n",
       "  'Gauche',\n",
       "  'Gauche',\n",
       "  'Droite'],\n",
       " {'Gauche': 7, 'Droite': 3})"
      ]
     },
     "execution_count": 3,
     "metadata": {},
     "output_type": "execute_result"
    }
   ],
   "source": [
    "gd.nouveautirage(10,True)"
   ]
  },
  {
   "cell_type": "code",
   "execution_count": 4,
   "metadata": {},
   "outputs": [
    {
     "data": {
      "image/png": "[encoded data removed]",
      "text/plain": [
       "<Figure size 432x288 with 1 Axes>"
      ]
     },
     "metadata": {
      "needs_background": "light"
     },
     "output_type": "display_data"
    }
   ],
   "source": [
    "a=gd.nouveautirage(10)\n",
    "plt.bar(a.keys(),a.values())\n",
    "plt.show()"
   ]
  },
  {
   "cell_type": "markdown",
   "metadata": {},
   "source": [
    "### A faire\n",
    "\n",
    "Faites 10 tirages avec 10 particules et construisez sur votre cahier un histogramme du nombre de fois où une \n",
    "valeur $n$ de particules est obtenu."
   ]
  },
  {
   "cell_type": "markdown",
   "metadata": {},
   "source": [
    "## Probabilité de trouver $n$ particules dans le compartiment de gauche\n",
    "\n",
    "Pour un nombre Nparticules de particules, nous allons effectuer Ntirages et construire un histogramme du nombre de fois où un nombre $n$ est trouvé dans ces tirages"
   ]
  },
  {
   "cell_type": "code",
   "execution_count": 31,
   "metadata": {},
   "outputs": [],
   "source": [
    "# définition de Nparticules et Ntirages\n",
    "\n",
    "Nparticules=100\n",
    "Ntirages=10000"
   ]
  },
  {
   "cell_type": "code",
   "execution_count": 32,
   "metadata": {},
   "outputs": [
    {
     "data": {
      "text/plain": [
       "array([52, 51, 44, 54, 46, 49, 53, 57, 47, 59, 54, 48, 50, 52, 44, 60, 52,\n",
       "       48, 44, 44, 52, 49, 48, 59, 50, 52, 39, 53, 43, 53, 46, 55, 50, 51,\n",
       "       47, 51, 56, 37, 50, 49, 48, 56, 44, 50, 45, 51, 55, 51, 61, 58, 54,\n",
       "       52, 51, 46, 46, 53, 54, 48, 63, 58, 55, 50, 39, 37, 54, 47, 50, 45,\n",
       "       52, 49, 49, 52, 53, 55, 59, 54, 40, 48, 54, 49, 43, 43, 51, 48, 53,\n",
       "       52, 40, 48, 52, 48, 57, 42, 50, 60, 51, 41, 51, 47, 49, 53])"
      ]
     },
     "execution_count": 32,
     "metadata": {},
     "output_type": "execute_result"
    }
   ],
   "source": [
    "# on effectue Ntirage et on garde dans une liste pour chaque tirage le nombre de particules à gauche\n",
    "\n",
    "NombresGauche=np.array([gd.nouveautirage(Nparticules).get(\"Gauche\") for i in range(Ntirages)])\n",
    "NombresGauche[0:100]"
   ]
  },
  {
   "cell_type": "code",
   "execution_count": 33,
   "metadata": {},
   "outputs": [
    {
     "data": {
      "image/png": "[encoded data removed]",
      "text/plain": [
       "<Figure size 432x288 with 1 Axes>"
      ]
     },
     "metadata": {
      "needs_background": "light"
     },
     "output_type": "display_data"
    }
   ],
   "source": [
    "# figure montrant la suite des tirages\n",
    "\n",
    "plt.plot(NombresGauche)\n",
    "\n",
    "plt.plot(np.arange(Ntirages),np.ones(Ntirages)*Nparticules/2.)\n",
    "plt.ylim(0,Nparticules+1)\n",
    "plt.show()"
   ]
  },
  {
   "cell_type": "code",
   "execution_count": 34,
   "metadata": {},
   "outputs": [],
   "source": [
    "# construction de l'histogramme\n",
    "(distribution,n)=np.histogram(NombresGauche,bins=range(Nparticules+1))"
   ]
  },
  {
   "cell_type": "code",
   "execution_count": 35,
   "metadata": {},
   "outputs": [
    {
     "data": {
      "image/png": "[encoded data removed]",
      "text/plain": [
       "<Figure size 432x288 with 1 Axes>"
      ]
     },
     "metadata": {
      "needs_background": "light"
     },
     "output_type": "display_data"
    }
   ],
   "source": [
    "# représentation graphique\n",
    "plt.hist(NombresGauche,bins=range(Nparticules+1))\n",
    "plt.show()"
   ]
  },
  {
   "cell_type": "markdown",
   "metadata": {},
   "source": [
    "## Expression analytique de $p(n)$\n",
    "\n",
    "En travaux dirigés, vous avez démontrer que pour $N$ particules la distribution $p(n)$ soit donnée par la [loi binomiale](https://fr.wikipedia.org/wiki/Loi_binomiale):\n",
    "\n",
    "\\begin{equation*}\n",
    "p(n)=\\frac{1}{2^N}\\binom{N}{n}.\n",
    "\\end{equation*}\n",
    "\n",
    "On peut alors s'attendre à trouver $N_\\mathrm{tirages}\\times p(n)$ fois $n$ particules à gauche pour $N_\\mathrm{tirages}$ tirages.\n",
    "\n",
    "On peut comparer cette expression au résultat que nous avons obtenu par tirages aléatoires."
   ]
  },
  {
   "cell_type": "code",
   "execution_count": 36,
   "metadata": {},
   "outputs": [],
   "source": [
    "def p(n,Nparticules=10):\n",
    "    p=sp.binom(Nparticules,n)*1./2.**Nparticules\n",
    "    return p"
   ]
  },
  {
   "cell_type": "markdown",
   "metadata": {},
   "source": [
    "Comparaison entre l'expression analytique et le résultat numérique"
   ]
  },
  {
   "cell_type": "code",
   "execution_count": 37,
   "metadata": {},
   "outputs": [
    {
     "data": {
      "image/png": "[encoded data removed]",
      "text/plain": [
       "<Figure size 432x288 with 1 Axes>"
      ]
     },
     "metadata": {
      "needs_background": "light"
     },
     "output_type": "display_data"
    }
   ],
   "source": [
    "plt.hist(NombresGauche,bins=range(Nparticules+1))\n",
    "n=np.arange(0,Nparticules+1)\n",
    "plt.plot(n,p(n,Nparticules)*Ntirages)\n",
    "#plt.yscale(\"log\")\n",
    "plt.show()"
   ]
  },
  {
   "cell_type": "markdown",
   "metadata": {},
   "source": [
    "### A faire\n",
    "\n",
    "Jouer avec Nparticules et Ntirages pour observer l'évolution de la distribution de $n$."
   ]
  },
  {
   "cell_type": "markdown",
   "metadata": {},
   "source": [
    "## Approximation gaussienne de la distribution $p(n)$\n",
    "\n",
    "En cours, nous avons écrite que la distribution binomiale ci-dessus peut être approximée pour $N$ grand par\n",
    "\n",
    "\\begin{equation*}\n",
    "p(n)\\approx p_\\mathrm{Gauss}(n)=\\sqrt{\\frac{2}{N\\pi}}\\exp \\left(-\\frac{2}{N}\\left(n-\\frac{N}{2}\\right)^2 \\right),\n",
    "\\end{equation*}\n",
    "\n",
    "c'est-à-dire une distribution Gaussienne, ou [loi normale](https://fr.wikipedia.org/wiki/Loi_normale), centrée en $\\frac{N}{2}$ et de [variance](https://fr.wikipedia.org/wiki/Variance_(math%C3%A9matiques)) $\\sigma^2=\\frac{N}{4}$.\n",
    "\n",
    "Nous allons comparer cette distribution Gaussienne à la distribution binomiale théorique et à la distribution obtenue numériquement."
   ]
  },
  {
   "cell_type": "code",
   "execution_count": 12,
   "metadata": {},
   "outputs": [],
   "source": [
    "def pGauss(n,Nparticules=10):\n",
    "    p=np.sqrt(2./(np.pi*Nparticules))*np.exp(-2./Nparticules*(n-Nparticules/2.)**2)\n",
    "    return p"
   ]
  },
  {
   "cell_type": "code",
   "execution_count": 13,
   "metadata": {},
   "outputs": [
    {
     "data": {
      "image/png": "[encoded data removed]",
      "text/plain": [
       "<Figure size 432x288 with 1 Axes>"
      ]
     },
     "metadata": {
      "needs_background": "light"
     },
     "output_type": "display_data"
    }
   ],
   "source": [
    "plt.hist(NombresGauche,bins=range(Nparticules+1))\n",
    "n=np.arange(0,Nparticules+1)\n",
    "plt.plot(n,p(n,Nparticules)*Ntirages)\n",
    "\n",
    "n=np.linspace(0,Nparticules,100)\n",
    "plt.plot(n,pGauss(n,Nparticules)*Ntirages)\n",
    "\n",
    "#plt.yscale(\"log\")\n",
    "plt.show()"
   ]
  },
  {
   "cell_type": "markdown",
   "metadata": {},
   "source": [
    "### A faire\n",
    "On peut voir que pour $N_\\mathrm{Particules}=100$, ces distributions sont très similaires. Faire varier $N_\\mathrm{Particules}$ pour voir comment cela change pour des valeurs plus faibles ou des valeurs plus grandes."
   ]
  },
  {
   "cell_type": "markdown",
   "metadata": {},
   "source": [
    "## Estimation de l'erreur par rapport à la moyenne: écart type\n",
    "\n",
    "En TD, nous avons estimé la largeur de la distribution grâce à la [largeur à mi-hauteur](https://fr.wikipedia.org/wiki/Largeur_%C3%A0_mi-hauteur), dénotée $H_N$ dans le TD. C'est une façon simple d'estimer la largeur d'une distribution graphiquement, mais on préfèrera ici estimer la largeur de la distribution par son [écart type](https://fr.wikipedia.org/wiki/%C3%89cart_type), $\\sigma$, défini par\n",
    "\n",
    "\\begin{equation*}\n",
    "\\sigma^2=\\int p(n) (n-\\bar{n})^2\\, dn,\n",
    "\\end{equation*}\n",
    "\n",
    "où $\\bar{n}=\\int p(n) n \\,dn$ est la moyenne de $n$. On peut voir que $\\sigma^2$, appelé [variance](https://fr.wikipedia.org/wiki/Variance_(math%C3%A9matiques)) de la distribution, est équivalent à l'[erreur quadratique moyenne](https://fr.wikipedia.org/wiki/Erreur_quadratique_moyenne): c'est la moyenne de la distance $(n-\\bar{n})^2$ à la moyenne.\n",
    "\n",
    "Pour le cas d'une distribution gaussienne, il y a une relation simple entre l'écart type et la largeur à mi-hauteur:\n",
    "\n",
    "\\begin{equation*}\n",
    "H_N=2\\sqrt{2\\ln 2}\\sigma \\approx 2,35 \\sigma.\n",
    "\\end{equation*}\n",
    "\n",
    "Nous allons estimer la moyenne et l'écart type de la distribution de $p(n)$ à partir des tirages aléatoires par\n",
    "\\begin{eqnarray*}\n",
    "    \\bar{n}&=\\frac{1}{N_\\mathrm{tirages}}\\sum_{i=1}^{N_\\mathrm{tirages}} n_i \\\\\n",
    "    \\sigma^2&=\\frac{1}{N_\\mathrm{tirages}}\\sum_{i=1}^{N_\\mathrm{tirages}} (n_i-\\bar{n})^2, \n",
    "\\end{eqnarray*}\n",
    "où $n_i$ est le nombre de particules à gauche dans le $i^\\mathrm{ème}$ tirage. Ceci est fait simplement grâce aux fonctions du package [numpy](https://numpy.org/):\n",
    "\n",
    "    numpy.mean()\n",
    "    \n",
    "et\n",
    "\n",
    "    numpy.std()\n"
   ]
  },
  {
   "cell_type": "code",
   "execution_count": 14,
   "metadata": {},
   "outputs": [],
   "source": [
    "# définition de Nparticules et Ntirages\n",
    "\n",
    "Nparticules=100\n",
    "Ntirages=10000"
   ]
  },
  {
   "cell_type": "code",
   "execution_count": 15,
   "metadata": {},
   "outputs": [
    {
     "data": {
      "text/plain": [
       "array([44, 49, 45, 47, 50, 55, 48, 58, 55, 41, 47, 59, 48, 45, 42, 48, 51,\n",
       "       53, 40, 49, 55, 57, 53, 58, 49, 49, 39, 52, 55, 51, 53, 52, 45, 51,\n",
       "       50, 51, 54, 37, 40, 54, 49, 47, 52, 56, 41, 47, 46, 51, 51, 58, 49,\n",
       "       48, 44, 48, 44, 53, 54, 50, 49, 49, 50, 60, 42, 47, 49, 46, 46, 46,\n",
       "       52, 48, 47, 47, 48, 50, 59, 60, 57, 61, 49, 45, 47, 51, 52, 46, 51,\n",
       "       47, 51, 56, 51, 50, 46, 46, 49, 48, 52, 47, 51, 53, 44, 54])"
      ]
     },
     "execution_count": 15,
     "metadata": {},
     "output_type": "execute_result"
    }
   ],
   "source": [
    "# on effectue Ntirage et on garde dans une liste pour chaque tirage le nombre de particules à gauche\n",
    "\n",
    "NombresGauche=np.array([gd.nouveautirage(Nparticules).get(\"Gauche\") for i in range(Ntirages)])\n",
    "NombresGauche[0:100]"
   ]
  },
  {
   "cell_type": "code",
   "execution_count": 16,
   "metadata": {},
   "outputs": [
    {
     "name": "stdout",
     "output_type": "stream",
     "text": [
      "\n",
      "Pour 100 particules et après 10000 tirages, le nombre moyen de particules à gauche est\n",
      "   nmoyen = 49.9782\n",
      "avec un écart type\n",
      "   sigma = 5.0086450023933615\n"
     ]
    }
   ],
   "source": [
    "# calcul de la moyenne et de l'écart type\n",
    "\n",
    "nmoyen=np.mean(NombresGauche)\n",
    "sigma=np.std(NombresGauche)\n",
    "print('''\n",
    "Pour {} particules et après {} tirages, le nombre moyen de particules à gauche est\n",
    "   nmoyen = {}\n",
    "avec un écart type\n",
    "   sigma = {}'''.format(Nparticules,Ntirages, nmoyen, sigma)\n",
    "     )"
   ]
  },
  {
   "cell_type": "markdown",
   "metadata": {},
   "source": [
    "Pour la distribution gaussienne discutée ci-dessus, l'écart type est donc $\\sigma=\\sqrt{\\frac{N}{4}}$. La moyenne attendue est bien-sûr $N/2$ pour deux compartiments identiques (voir TD)."
   ]
  },
  {
   "cell_type": "code",
   "execution_count": 17,
   "metadata": {},
   "outputs": [
    {
     "name": "stdout",
     "output_type": "stream",
     "text": [
      "\n",
      "Pour 100 particules, le nombre moyen de particules à gauche attendu est\n",
      "   nmoyen = 50.0\n",
      "avec un écart type\n",
      "   sigma = 5.0\n"
     ]
    }
   ],
   "source": [
    "# moyenne et écart type pour la distribution Gaussienne\n",
    "\n",
    "sigmaGauss=np.sqrt(Nparticules/4.)\n",
    "print('''\n",
    "Pour {} particules, le nombre moyen de particules à gauche attendu est\n",
    "   nmoyen = {}\n",
    "avec un écart type\n",
    "   sigma = {}'''.format(Nparticules, Nparticules/2, sigmaGauss)\n",
    "     )"
   ]
  },
  {
   "cell_type": "markdown",
   "metadata": {},
   "source": [
    "### A faire\n",
    "\n",
    "Estimer par des tirages aléatoires $\\sigma$ pour différentes valeurs de $N_\\mathrm{particules}$ et tracer $\\sigma^2$ en fonction de $N_\\mathrm{particules}$. Trouvez-vous une droite comme cela est attendu?"
   ]
  },
  {
   "cell_type": "code",
   "execution_count": null,
   "metadata": {},
   "outputs": [],
   "source": []
  }
 ],
 "metadata": {
  "kernelspec": {
   "display_name": "Python 3",
   "language": "python",
   "name": "python3"
  },
  "language_info": {
   "codemirror_mode": {
    "name": "ipython",
    "version": 3
   },
   "file_extension": ".py",
   "mimetype": "text/x-python",
   "name": "python",
   "nbconvert_exporter": "python",
   "pygments_lexer": "ipython3",
   "version": "3.8.1"
  }
 },
 "nbformat": 4,
 "nbformat_minor": 4
}
