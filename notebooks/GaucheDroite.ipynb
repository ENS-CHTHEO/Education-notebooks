{
 "cells": [
  {
   "cell_type": "markdown",
   "metadata": {},
   "source": [
    "# Répartition de particules entre deux compartiments\n",
    "\n",
    "Comme vu en cours et en travaux dirigés, nous considérons ici un nombre $N_\\mathrm{particules}$ de particules réparties entre deux compartiments identiques, dénomés \"Gauche\" et \"Droite.\n",
    "\n",
    "Nous allons alors nous intéresser à la probabilité $p(n)=P(N_\\mathrm{gauche}=n)$ de trouver $n$ particules dans le compartiment de gauche."
   ]
  },
  {
   "cell_type": "markdown",
   "metadata": {},
   "source": [
    "## Modules nécessaires"
   ]
  },
  {
   "cell_type": "code",
   "execution_count": 69,
   "metadata": {},
   "outputs": [],
   "source": [
    "import numpy as np\n",
    "import matplotlib.pyplot as plt\n",
    "import scipy.special as sp"
   ]
  },
  {
   "cell_type": "code",
   "execution_count": 29,
   "metadata": {},
   "outputs": [],
   "source": [
    "import tools.gauchedroite as gd"
   ]
  },
  {
   "cell_type": "markdown",
   "metadata": {},
   "source": [
    "## Prise en main\n",
    "\n",
    "Nous avons créé une fonction \n",
    "\n",
    "    $ nouveautirage(Nparticules=10,Verbose=False)\n",
    "    \n",
    "qui effectue une répartion aléatoire de Nparticules entre les deux compartiments. La valeur de Nparticules par défaut est 10.\n",
    "\n",
    "Si Verbose == False, alors la sortie de nouveautirage est un dictionnaire python donnant le nombre de particules dans chaque compartiment. Par exemple:\n",
    "    \n",
    "    {'Gauche': 5, 'Droite': 5})\n",
    " \n",
    "Si Verbose == True et si Nparticules <= 100 , la sortie est un tuple comprenant une liste indiquant pour chaque particule le compartiment dans laquelle elle se trouve et le dictionnaire ci-dessous. Par exemple:\n",
    "\n",
    "    $ nouveautirage(10,True)\n",
    "    (['Gauche',\n",
    "      'Droite',\n",
    "      'Gauche',\n",
    "      'Gauche',\n",
    "      'Droite',\n",
    "      'Droite',\n",
    "      'Droite',\n",
    "      'Gauche',\n",
    "      'Gauche',\n",
    "      'Droite'],\n",
    "     {'Gauche': 5, 'Droite': 5})\n",
    "    \n",
    "Le résultat de nouveautirage peut facilement être représenté sous forme d'histogramme grâce à la fonction pyplot.bar de matplotlib."
   ]
  },
  {
   "cell_type": "code",
   "execution_count": 40,
   "metadata": {},
   "outputs": [
    {
     "data": {
      "text/plain": [
       "(['Droite',\n",
       "  'Gauche',\n",
       "  'Gauche',\n",
       "  'Gauche',\n",
       "  'Gauche',\n",
       "  'Gauche',\n",
       "  'Gauche',\n",
       "  'Gauche',\n",
       "  'Gauche',\n",
       "  'Droite'],\n",
       " {'Gauche': 8, 'Droite': 2})"
      ]
     },
     "execution_count": 40,
     "metadata": {},
     "output_type": "execute_result"
    }
   ],
   "source": [
    "gd.nouveautirage(10,True)"
   ]
  },
  {
   "cell_type": "code",
   "execution_count": 82,
   "metadata": {},
   "outputs": [
    {
     "data": {
      "image/png": "[encoded data removed]",
      "text/plain": [
       "<Figure size 432x288 with 1 Axes>"
      ]
     },
     "metadata": {
      "needs_background": "light"
     },
     "output_type": "display_data"
    }
   ],
   "source": [
    "a=gd.nouveautirage(10)\n",
    "plt.bar(a.keys(),a.values())\n",
    "plt.show()"
   ]
  },
  {
   "cell_type": "markdown",
   "metadata": {},
   "source": [
    "### A faire\n",
    "\n",
    "Faites 10 tirages avec 10 particules et construisez sur votre cahier un histogramme du nombre de fois où une \n",
    "valeur $n$ de particules est obtenu."
   ]
  },
  {
   "cell_type": "markdown",
   "metadata": {},
   "source": [
    "## Probabilité de trouver $n$ particules dans le compartiment de gauche\n",
    "\n",
    "Pour un nombre Nparticules de particules, nous allons effectuer Ntirages et construire un histogramme du nombre de fois où un nombre $n$ est trouvé dans ces tirages"
   ]
  },
  {
   "cell_type": "code",
   "execution_count": 47,
   "metadata": {},
   "outputs": [],
   "source": [
    "# définition de Nparticules et Ntirages\n",
    "\n",
    "Nparticules=100\n",
    "Ntirages=1000"
   ]
  },
  {
   "cell_type": "code",
   "execution_count": 63,
   "metadata": {},
   "outputs": [
    {
     "data": {
      "text/plain": [
       "array([45, 45, 52, 51, 46, 49, 49, 57, 48, 49, 52, 46, 45, 51, 42, 52, 46,\n",
       "       46, 45, 50, 59, 50, 58, 46, 39, 50, 52, 43, 51, 44, 46, 51, 48, 49,\n",
       "       43, 52, 50, 47, 53, 42, 50, 52, 56, 62, 47, 48, 46, 51, 39, 43, 42,\n",
       "       52, 50, 50, 52, 50, 52, 48, 54, 48, 50, 50, 46, 52, 47, 45, 63, 40,\n",
       "       50, 49, 51, 49, 47, 43, 50, 48, 52, 48, 49, 53, 47, 48, 46, 62, 54,\n",
       "       43, 50, 57, 48, 58, 39, 55, 61, 45, 47, 55, 57, 57, 41, 52])"
      ]
     },
     "execution_count": 63,
     "metadata": {},
     "output_type": "execute_result"
    }
   ],
   "source": [
    "# on effectue Ntirage et on garde dans une liste pour chaque tirage le nombre de particules à gauche\n",
    "\n",
    "NombresGauche=np.array([gd.nouveautirage(Nparticules).get(\"Gauche\") for i in range(Ntirages)])\n",
    "NombresGauche[0:100]"
   ]
  },
  {
   "cell_type": "code",
   "execution_count": 64,
   "metadata": {},
   "outputs": [],
   "source": [
    "# construction de l'histogramme\n",
    "(distribution,n)=np.histogram(NombresGauche,bins=range(Nparticules+1))"
   ]
  },
  {
   "cell_type": "code",
   "execution_count": 81,
   "metadata": {},
   "outputs": [
    {
     "data": {
      "image/png": "[encoded data removed]",
      "text/plain": [
       "<Figure size 432x288 with 1 Axes>"
      ]
     },
     "metadata": {
      "needs_background": "light"
     },
     "output_type": "display_data"
    }
   ],
   "source": [
    "# représentation graphique\n",
    "plt.hist(NombresGauche,bins=range(Nparticules+1))\n",
    "plt.show()"
   ]
  },
  {
   "cell_type": "markdown",
   "metadata": {},
   "source": [
    "## Expression analytique de $p(n)$\n",
    "\n",
    "En travaux dirigés, vous avez démontrer que pour $N$ particules:\n",
    "\\begin{equation*}\n",
    "p(n)=\\frac{1}{2^N}\\binom{N}{n}.\n",
    "\\end{equation*}\n",
    "\n",
    "On peut alors s'attendre à trouver $N\\mathrm{tirages}\\times p(n)$ fois $n$ particules à gauche pour $N_\\mathrm{tirages}$ tirages.\n",
    "\n",
    "On peut comparer cette expression au résultat que nous avons obtenu par tirages aléatoires."
   ]
  },
  {
   "cell_type": "code",
   "execution_count": 73,
   "metadata": {},
   "outputs": [],
   "source": [
    "def p(n,Nparticules=10):\n",
    "    p=sp.binom(Nparticules,n)*1./2.**Nparticules\n",
    "    return p"
   ]
  },
  {
   "cell_type": "markdown",
   "metadata": {},
   "source": [
    "Comparaison entre l'expression analytique et le résultat numérique"
   ]
  },
  {
   "cell_type": "code",
   "execution_count": 86,
   "metadata": {},
   "outputs": [
    {
     "data": {
      "image/png": "[encoded data removed]",
      "text/plain": [
       "<Figure size 432x288 with 1 Axes>"
      ]
     },
     "metadata": {
      "needs_background": "light"
     },
     "output_type": "display_data"
    }
   ],
   "source": [
    "plt.hist(NombresGauche,bins=range(Nparticules+1))\n",
    "n=np.arange(0,Nparticules+1)\n",
    "plt.plot(n,p(n,Nparticules)*Ntirages)\n",
    "plt.show()"
   ]
  },
  {
   "cell_type": "markdown",
   "metadata": {},
   "source": [
    "### A faire\n",
    "\n",
    "Jouer avec Nparticules et Ntirages pour observer l'évolution de la distribution de $n$."
   ]
  },
  {
   "cell_type": "code",
   "execution_count": null,
   "metadata": {},
   "outputs": [],
   "source": []
  }
 ],
 "metadata": {
  "kernelspec": {
   "display_name": "Python 3",
   "language": "python",
   "name": "python3"
  },
  "language_info": {
   "codemirror_mode": {
    "name": "ipython",
    "version": 3
   },
   "file_extension": ".py",
   "mimetype": "text/x-python",
   "name": "python",
   "nbconvert_exporter": "python",
   "pygments_lexer": "ipython3",
   "version": "3.8.1"
  }
 },
 "nbformat": 4,
 "nbformat_minor": 4
}
